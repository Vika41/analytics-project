{
 "cells": [
  {
   "cell_type": "code",
   "execution_count": null,
   "id": "23234eab",
   "metadata": {
    "vscode": {
     "languageId": "plaintext"
    }
   },
   "outputs": [],
   "source": [
    "import matplotlib.pyplot as plt\n",
    "import numpy as np\n",
    "import pandas as pd\n",
    "import seaborn as sns"
   ]
  },
  {
   "cell_type": "code",
   "execution_count": null,
   "id": "b567b272",
   "metadata": {
    "vscode": {
     "languageId": "plaintext"
    }
   },
   "outputs": [],
   "source": [
    "# Load CSV\n",
    "csv_1_path = \"./videos/topdown_eval_metrics.csv\"\n",
    "csv_2_path = \"./videos/topdown_eval_metrics.csv\"\n",
    "csv_3_path = \"./videos/topdown_eval_metrics.csv\"\n",
    "csv_4_path = \"./videos/topdown_eval_metrics.csv\"\n",
    "\n",
    "ppo_top = pd.read_csv(csv_1_path)\n",
    "td3 = pd.read_csv(csv_2_path)\n",
    "ppo_grid = pd.read_csv(csv_3_path)\n",
    "dqn = pd.read_csv(csv_4_path)"
   ]
  },
  {
   "cell_type": "code",
   "execution_count": null,
   "id": "751cc034",
   "metadata": {
    "vscode": {
     "languageId": "plaintext"
    }
   },
   "outputs": [],
   "source": [
    "ppo_top[\"lap_time\"] = pd.to_numeric(ppo_top[\"lap_time\"], errors=\"coerce\")\n",
    "td3[\"lap_time\"] = pd.to_numeric(td3[\"lap_time\"], errors=\"coerce\")\n",
    "ppo_grid[\"lap_time\"] = pd.to_numeric(ppo_grid[\"lap_time\"], errors=\"coerce\")\n",
    "dqn[\"lap_time\"] = pd.to_numeric(dqn[\"lap_time\"], errors=\"coerce\")"
   ]
  },
  {
   "cell_type": "code",
   "execution_count": null,
   "id": "9e1b895c",
   "metadata": {
    "vscode": {
     "languageId": "plaintext"
    }
   },
   "outputs": [],
   "source": [
    "# Plot 1: Lap Time Progression - TopDown PPO\n",
    "plt.figure(figsize=(10, 4))\n",
    "sns.lineplot(data=ppo_top[ppo_top[\"lap_time\"].notna()], x=\"frame\", y=\"lap_time\", marker=\"o\")\n",
    "plt.title(\"Lap Time Over Frames\")\n",
    "plt.xlabel(\"Frame\")\n",
    "plt.ylabel(\"Lap Time (s)\")\n",
    "plt.grid(True)\n",
    "plt.show()"
   ]
  },
  {
   "cell_type": "code",
   "execution_count": null,
   "id": "d4f44ed1",
   "metadata": {
    "vscode": {
     "languageId": "plaintext"
    }
   },
   "outputs": [],
   "source": [
    "# Plot 2: Checkpoint Progress - TopDown PPO\n",
    "plt.figure(figsize=(10, 4))\n",
    "sns.lineplot(data=ppo_top, x=\"frame\", y=\"checkpoints\", marker=\"o\", color=\"orange\")\n",
    "plt.title(\"Checkpoint Progress Over Time\")\n",
    "plt.xlabel(\"Frame\")\n",
    "plt.ylabel(\"Checkpoints Passed\")\n",
    "plt.grid(True)\n",
    "plt.show()"
   ]
  },
  {
   "cell_type": "code",
   "execution_count": null,
   "id": "85292227",
   "metadata": {
    "vscode": {
     "languageId": "plaintext"
    }
   },
   "outputs": [],
   "source": [
    "# Plot 3: Agent Trajectory Heatmap - TopDown PPO\n",
    "if \"position_x\" in ppo_top.columns and \"position_y\" in ppo_top.columns:\n",
    "    heatmap_data = ppo_top.groupby([\"position_x\", \"position_y\"]).size().unstack(fill_value=0)\n",
    "    plt.figure(figsize=(8, 6))\n",
    "    sns.heatmap(heatmap_data, cmap=\"YlGnBu\", annot=False)\n",
    "    plt.title(\"Agent Position Heatmap\")\n",
    "    plt.xlabel(\"Y Position\")\n",
    "    plt.ylabel(\"X Position\")\n",
    "    plt.show()\n"
   ]
  },
  {
   "cell_type": "code",
   "execution_count": null,
   "id": "e524c6f8",
   "metadata": {
    "vscode": {
     "languageId": "plaintext"
    }
   },
   "outputs": [],
   "source": [
    "# Plot 4: Action Distribution - TopDown PPO\n",
    "plt.figure(figsize=(6, 4))\n",
    "sns.countplot(data=ppo_top, x=\"action\", palette=\"Set2\")\n",
    "plt.title(\"Action Distribution\")\n",
    "plt.xlabel(\"Action\")\n",
    "plt.ylabel(\"Frequency\")\n",
    "plt.grid(True)\n",
    "plt.show()"
   ]
  },
  {
   "cell_type": "code",
   "execution_count": null,
   "id": "6c29aea6",
   "metadata": {
    "vscode": {
     "languageId": "plaintext"
    }
   },
   "outputs": [],
   "source": [
    "# Plot 1: Lap Time Progression - TD3\n",
    "plt.figure(figsize=(10, 4))\n",
    "sns.lineplot(data=td3[td3[\"lap_time\"].notna()], x=\"frame\", y=\"lap_time\", marker=\"o\")\n",
    "plt.title(\"Lap Time Over Frames\")\n",
    "plt.xlabel(\"Frame\")\n",
    "plt.ylabel(\"Lap Time (s)\")\n",
    "plt.grid(True)\n",
    "plt.show()"
   ]
  },
  {
   "cell_type": "code",
   "execution_count": null,
   "id": "187ada38",
   "metadata": {
    "vscode": {
     "languageId": "plaintext"
    }
   },
   "outputs": [],
   "source": [
    "# Plot 2: Checkpoint Progress - TD3\n",
    "plt.figure(figsize=(10, 4))\n",
    "sns.lineplot(data=td3, x=\"frame\", y=\"checkpoints\", marker=\"o\", color=\"orange\")\n",
    "plt.title(\"Checkpoint Progress Over Time\")\n",
    "plt.xlabel(\"Frame\")\n",
    "plt.ylabel(\"Checkpoints Passed\")\n",
    "plt.grid(True)\n",
    "plt.show()"
   ]
  },
  {
   "cell_type": "code",
   "execution_count": null,
   "id": "5d3488ea",
   "metadata": {
    "vscode": {
     "languageId": "plaintext"
    }
   },
   "outputs": [],
   "source": [
    "# Plot 3: Agent Trajectory Heatmap - TD3\n",
    "if \"position_x\" in td3.columns and \"position_y\" in td3.columns:\n",
    "    heatmap_data = td3.groupby([\"position_x\", \"position_y\"]).size().unstack(fill_value=0)\n",
    "    plt.figure(figsize=(8, 6))\n",
    "    sns.heatmap(heatmap_data, cmap=\"YlGnBu\", annot=False)\n",
    "    plt.title(\"Agent Position Heatmap\")\n",
    "    plt.xlabel(\"Y Position\")\n",
    "    plt.ylabel(\"X Position\")\n",
    "    plt.show()"
   ]
  },
  {
   "cell_type": "code",
   "execution_count": null,
   "id": "f50e4f3f",
   "metadata": {
    "vscode": {
     "languageId": "plaintext"
    }
   },
   "outputs": [],
   "source": [
    "# Plot 4: Action Distribution - TD3\n",
    "plt.figure(figsize=(6, 4))\n",
    "sns.countplot(data=td3, x=\"action\", palette=\"Set2\")\n",
    "plt.title(\"Action Distribution\")\n",
    "plt.xlabel(\"Action\")\n",
    "plt.ylabel(\"Frequency\")\n",
    "plt.grid(True)\n",
    "plt.show()"
   ]
  },
  {
   "cell_type": "code",
   "execution_count": null,
   "id": "6cc7a5ee",
   "metadata": {
    "vscode": {
     "languageId": "plaintext"
    }
   },
   "outputs": [],
   "source": [
    "# Plot 1: Lap Time Progression - GridBased PPO\n",
    "plt.figure(figsize=(10, 4))\n",
    "sns.lineplot(data=ppo_grid[ppo_grid[\"lap_time\"].notna()], x=\"frame\", y=\"lap_time\", marker=\"o\")\n",
    "plt.title(\"Lap Time Over Frames\")\n",
    "plt.xlabel(\"Frame\")\n",
    "plt.ylabel(\"Lap Time (s)\")\n",
    "plt.grid(True)\n",
    "plt.show()"
   ]
  },
  {
   "cell_type": "code",
   "execution_count": null,
   "id": "64bae085",
   "metadata": {
    "vscode": {
     "languageId": "plaintext"
    }
   },
   "outputs": [],
   "source": [
    "# Plot 2: Checkpoint Progress - GridBased PPO\n",
    "plt.figure(figsize=(10, 4))\n",
    "sns.lineplot(data=ppo_grid, x=\"frame\", y=\"checkpoints\", marker=\"o\", color=\"orange\")\n",
    "plt.title(\"Checkpoint Progress Over Time\")\n",
    "plt.xlabel(\"Frame\")\n",
    "plt.ylabel(\"Checkpoints Passed\")\n",
    "plt.grid(True)\n",
    "plt.show()"
   ]
  },
  {
   "cell_type": "code",
   "execution_count": null,
   "id": "2824da40",
   "metadata": {
    "vscode": {
     "languageId": "plaintext"
    }
   },
   "outputs": [],
   "source": [
    "# Plot 3: Agent Trajectory Heatmap - GridBased PPO\n",
    "if \"position_x\" in ppo_grid.columns and \"position_y\" in ppo_grid.columns:\n",
    "    heatmap_data = ppo_grid.groupby([\"position_x\", \"position_y\"]).size().unstack(fill_value=0)\n",
    "    plt.figure(figsize=(8, 6))\n",
    "    sns.heatmap(heatmap_data, cmap=\"YlGnBu\", annot=False)\n",
    "    plt.title(\"Agent Position Heatmap\")\n",
    "    plt.xlabel(\"Y Position\")\n",
    "    plt.ylabel(\"X Position\")\n",
    "    plt.show()"
   ]
  },
  {
   "cell_type": "code",
   "execution_count": null,
   "id": "d8f3409c",
   "metadata": {
    "vscode": {
     "languageId": "plaintext"
    }
   },
   "outputs": [],
   "source": [
    "# Plot 4: Action Distribution - GridBased PPO\n",
    "plt.figure(figsize=(6, 4))\n",
    "sns.countplot(data=ppo_grid, x=\"action\", palette=\"Set2\")\n",
    "plt.title(\"Action Distribution\")\n",
    "plt.xlabel(\"Action\")\n",
    "plt.ylabel(\"Frequency\")\n",
    "plt.grid(True)\n",
    "plt.show()"
   ]
  },
  {
   "cell_type": "code",
   "execution_count": null,
   "id": "d413493e",
   "metadata": {
    "vscode": {
     "languageId": "plaintext"
    }
   },
   "outputs": [],
   "source": [
    "# Plot 1: Lap Time Progression - DQN\n",
    "plt.figure(figsize=(10, 4))\n",
    "sns.lineplot(data=dqn[dqn[\"lap_time\"].notna()], x=\"frame\", y=\"lap_time\", marker=\"o\")\n",
    "plt.title(\"Lap Time Over Frames\")\n",
    "plt.xlabel(\"Frame\")\n",
    "plt.ylabel(\"Lap Time (s)\")\n",
    "plt.grid(True)\n",
    "plt.show()"
   ]
  },
  {
   "cell_type": "code",
   "execution_count": null,
   "id": "3adf3256",
   "metadata": {
    "vscode": {
     "languageId": "plaintext"
    }
   },
   "outputs": [],
   "source": [
    "# Plot 2: Checkpoint Progress - DQN\n",
    "plt.figure(figsize=(10, 4))\n",
    "sns.lineplot(data=dqn, x=\"frame\", y=\"checkpoints\", marker=\"o\", color=\"orange\")\n",
    "plt.title(\"Checkpoint Progress Over Time\")\n",
    "plt.xlabel(\"Frame\")\n",
    "plt.ylabel(\"Checkpoints Passed\")\n",
    "plt.grid(True)\n",
    "plt.show()"
   ]
  },
  {
   "cell_type": "code",
   "execution_count": null,
   "id": "5354c06a",
   "metadata": {
    "vscode": {
     "languageId": "plaintext"
    }
   },
   "outputs": [],
   "source": [
    "# Plot 3: Agent Trajectory Heatmap - DQN\n",
    "if \"position_x\" in dqn.columns and \"position_y\" in dqn.columns:\n",
    "    heatmap_data = dqn.groupby([\"position_x\", \"position_y\"]).size().unstack(fill_value=0)\n",
    "    plt.figure(figsize=(8, 6))\n",
    "    sns.heatmap(heatmap_data, cmap=\"YlGnBu\", annot=False)\n",
    "    plt.title(\"Agent Position Heatmap\")\n",
    "    plt.xlabel(\"Y Position\")\n",
    "    plt.ylabel(\"X Position\")\n",
    "    plt.show()"
   ]
  },
  {
   "cell_type": "code",
   "execution_count": null,
   "id": "05632d56",
   "metadata": {
    "vscode": {
     "languageId": "plaintext"
    }
   },
   "outputs": [],
   "source": [
    "# Plot 4: Action Distribution - DQN\n",
    "plt.figure(figsize=(6, 4))\n",
    "sns.countplot(data=dqn, x=\"action\", palette=\"Set2\")\n",
    "plt.title(\"Action Distribution\")\n",
    "plt.xlabel(\"Action\")\n",
    "plt.ylabel(\"Frequency\")\n",
    "plt.grid(True)\n",
    "plt.show()"
   ]
  }
 ],
 "metadata": {
  "language_info": {
   "name": "python"
  }
 },
 "nbformat": 4,
 "nbformat_minor": 5
}
